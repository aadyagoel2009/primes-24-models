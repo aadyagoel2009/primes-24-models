{
 "cells": [
  {
   "cell_type": "code",
   "execution_count": 5,
   "metadata": {},
   "outputs": [
    {
     "name": "stdout",
     "output_type": "stream",
     "text": [
      "Dataset info:\n",
      "Cora()\n",
      "-----------------------\n",
      "The number of node features:1433\n",
      "The dimension of hidden layer16\n",
      "The dimension of output layer:7\n",
      "-----------------------\n"
     ]
    }
   ],
   "source": [
    "from torch_geometric.datasets import Planetoid\n",
    "import torch\n",
    "import torch.nn.functional as F\n",
    "from torch_geometric.nn import GCNConv\n",
    "\n",
    "#A two-layer GCN classification example with CORA dataset\n",
    "\n",
    "dataset = Planetoid(root='/tmp/Cora', name='Cora')\n",
    "print('Dataset info:')\n",
    "print(dataset)\n",
    "num_node_features = dataset.num_node_features #The number of node features (the input of GCN)\n",
    "dim_hidden = 16 #The hidden layer's dimension of GCN\n",
    "dim_output = dataset.num_classes #The output's dimension\n",
    "num_epoch = 200 #The number of epoch\n",
    "learning_rate = 0.01 #The learning rate for GCN training\n",
    "print('-----------------------')\n",
    "print('The number of node features:{}\\nThe dimension of hidden layer{}\\nThe dimension of output layer:{}'.format(num_node_features, dim_hidden, dim_output))\n",
    "print('-----------------------')"
   ]
  },
  {
   "cell_type": "code",
   "execution_count": 8,
   "metadata": {},
   "outputs": [],
   "source": [
    "class GCN(torch.nn.Module):\n",
    "    def __init__(self):\n",
    "        super().__init__()\n",
    "        self.conv1 = GCNConv(num_node_features, dim_hidden) #The first layer of GCN\n",
    "        self.conv2 = GCNConv(dim_hidden, dim_output) #The second layer of GCN\n",
    "        \n",
    "    def forward(self, data):\n",
    "        #data.x: the node features\n",
    "        #data.edge_index: the edges of graph\n",
    "        x, edge_index = data.x, data.edge_index \n",
    "        x = self.conv1(x, edge_index)\n",
    "        x = F.relu(x)\n",
    "        x = F.dropout(x, training=self.training)\n",
    "        x = self.conv2(x, edge_index)\n",
    "        return F.log_softmax(x, dim=1)\n",
    "        \n",
    "device = torch.device('cpu') \n",
    "model = GCN().to(device)\n",
    "data = dataset[0].to(device)\n",
    "optimizer = torch.optim.Adam(model.parameters(), lr=learning_rate, weight_decay=5e-4)\n",
    "\n",
    "loss_log = []"
   ]
  },
  {
   "cell_type": "code",
   "execution_count": 7,
   "metadata": {},
   "outputs": [
    {
     "name": "stdout",
     "output_type": "stream",
     "text": [
      "Number of test sample:1000\n",
      "Number of correct prediction:802\n",
      "The accuracy:0.8020\n"
     ]
    }
   ],
   "source": [
    "\n",
    "#training part\n",
    "model.train()\n",
    "for epoch in range(num_epoch):\n",
    "    optimizer.zero_grad()\n",
    "    output = model(data)\n",
    "    loss = F.nll_loss(output[data.train_mask], data.y[data.train_mask])\n",
    "    loss_log.append(loss.item())\n",
    "    loss.backward()\n",
    "    optimizer.step()\n",
    "\n",
    "#test part\n",
    "model.eval()\n",
    "pred = model(data).argmax(dim=1)\n",
    "correct = (pred[data.test_mask] == data.y[data.test_mask]).sum()\n",
    "accuracy = int(correct) / int(data.test_mask.sum())\n",
    "print('Number of test sample:{}\\nNumber of correct prediction:{}\\nThe accuracy:{:.4f}'.format(data.test_mask.sum(),correct,accuracy))\n",
    "\n"
   ]
  }
 ],
 "metadata": {
  "kernelspec": {
   "display_name": "Python 3",
   "language": "python",
   "name": "python3"
  },
  "language_info": {
   "codemirror_mode": {
    "name": "ipython",
    "version": 3
   },
   "file_extension": ".py",
   "mimetype": "text/x-python",
   "name": "python",
   "nbconvert_exporter": "python",
   "pygments_lexer": "ipython3",
   "version": "3.11.9"
  }
 },
 "nbformat": 4,
 "nbformat_minor": 2
}
